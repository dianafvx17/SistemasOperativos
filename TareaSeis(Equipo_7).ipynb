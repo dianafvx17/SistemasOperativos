{
  "nbformat": 4,
  "nbformat_minor": 0,
  "metadata": {
    "colab": {
      "name": "TareaSeis(Equipo 7).ipynb",
      "provenance": [],
      "authorship_tag": "ABX9TyMT5b87EPsY1T3cKKmhu6Tm",
      "include_colab_link": true
    },
    "kernelspec": {
      "name": "python3",
      "display_name": "Python 3"
    }
  },
  "cells": [
    {
      "cell_type": "markdown",
      "metadata": {
        "id": "view-in-github",
        "colab_type": "text"
      },
      "source": [
        "<a href=\"https://colab.research.google.com/github/dianafvx17/SistemasOperativos/blob/main/TareaSeis(Equipo_7).ipynb\" target=\"_parent\"><img src=\"https://colab.research.google.com/assets/colab-badge.svg\" alt=\"Open In Colab\"/></a>"
      ]
    },
    {
      "cell_type": "markdown",
      "metadata": {
        "id": "JjxcOreo4MQ_"
      },
      "source": [
        "#**Calculadora de Conversiones**"
      ]
    },
    {
      "cell_type": "code",
      "metadata": {
        "id": "C3HGqc4534bT"
      },
      "source": [
        "# -*- coding: utf-8 -*-\n",
        "\"\"\"\n",
        "Created on Wed Oct 28 15:36:25 2020\n",
        "\n",
        "@author: diana\n",
        "\"\"\"\n",
        "def Bases(decimal, base):\n",
        "    conversion = ''\n",
        "    while decimal // base != 0:\n",
        "        conversion = str(decimal % base) + conversion\n",
        "        decimal = decimal // base\n",
        "    return str(decimal) + conversion\n",
        "def Binario(decimal):\n",
        "    binario = ''\n",
        "    while decimal // 2 != 0:\n",
        "        binario = str(decimal % 2) + binario\n",
        "        decimal = decimal // 2\n",
        "    return str(decimal) + binario\n",
        "def Byts(bits):\n",
        "    bits=len(Binario(numero))\n",
        "    byts=0.125\n",
        "    con=''\n",
        "    con=bits*byts\n",
        "    return(con)\n",
        "def KBytes(byts):\n",
        "    kb=0.0009766\n",
        "    kby=Byts(numero)*kb\n",
        "    return(kby)\n",
        "def MBytes(kb):\n",
        "    Mb=0.0009766\n",
        "    MBytes=KBytes(numero)*Mb\n",
        "    return(MBytes)\n",
        "def GBytes(Mb):\n",
        "    Gb=0.0009766\n",
        "    GBytes=MBytes(numero)*Gb\n",
        "    return(GBytes)\n",
        "def TBytes(Gb):\n",
        "    Tb=0.0009766\n",
        "    TBytes=MBytes(numero)*Tb\n",
        "    return(TBytes)\n",
        "def PBytes(Mb):\n",
        "    Pb=0.0009766\n",
        "    PBytes=TBytes(numero)*Pb\n",
        "    return(PBytes)\n",
        "numero = int(input('Introduce el número decimal a convertir: '))\n",
        "print(\"0. TODOS \\n1) Quintano \\n2) Hexadecimal \\n3) Octal \\n4) Binario  \\n5) Bits\",\n",
        "    \"\\n6) Bytes \\n7) KiloBytes \\n8) MegaBytes \\n9) GBytes \\n10) TBytes \\n11) PBytes\")\n",
        "Conv=int(input(\"¿A que unidad deseas convertir el numero? \"))\n",
        "if Conv==1:\n",
        "    print(\"Quintano:\", Bases(numero, 5))\n",
        "elif Conv==2:\n",
        "    print(\"Hexadecimal:\", Bases(numero, 6))\n",
        "elif Conv==3:\n",
        "    print(\"Octal:\", Bases(numero, 8))\n",
        "elif Conv==4:\n",
        "    print(\"Binario:\", Binario(numero))\n",
        "elif Conv==5:\n",
        "    print(\"Bits:\", len(Binario(numero)))\n",
        "elif Conv==6:\n",
        "    print(\"Bytes:\", Byts(numero))\n",
        "elif Conv==7:\n",
        "    print(\"KiloBytes:\", KBytes(numero))\n",
        "elif Conv==8:\n",
        "    print(\"MegaBytes:\", MBytes(numero))\n",
        "elif Conv==9:\n",
        "    print(\"GBytes:\", GBytes(numero))\n",
        "elif Conv==10:\n",
        "    print(\"TBytes:\", TBytes(numero))\n",
        "elif Conv==11:\n",
        "    print(\"PBytes:\", PBytes(numero))\n",
        "else:\n",
        "    print(\"Quintano:\", Bases(numero, 5))\n",
        "    print(\"Hexadecimal:\", Bases(numero, 6))\n",
        "    print(\"Octal:\", Bases(numero, 8))\n",
        "    print(\"Binario:\", Binario(numero))\n",
        "    print(\"Bits:\", len(Binario(numero)))\n",
        "    print(\"Bytes:\", Byts(numero))\n",
        "    print(\"KiloBytes:\", KBytes(numero))\n",
        "    print(\"MegaBytes:\", MBytes(numero))\n",
        "    print(\"GBytes:\", GBytes(numero))\n",
        "    print(\"TBytes:\", TBytes(numero))\n",
        "    print(\"PBytes:\", PBytes(numero))"
      ],
      "execution_count": null,
      "outputs": []
    }
  ]
}